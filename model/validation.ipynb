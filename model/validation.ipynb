{
 "cells": [
  {
   "cell_type": "markdown",
   "id": "96195e1a-2a4e-4ab7-8b61-8425bf35d3f6",
   "metadata": {},
   "source": [
    "# Overview\n",
    "* prep data for models"
   ]
  },
  {
   "cell_type": "markdown",
   "id": "394aa22f-7119-4325-bbc6-123c290bedc7",
   "metadata": {},
   "source": [
    "# Dependnecies"
   ]
  },
  {
   "cell_type": "code",
   "execution_count": 13,
   "id": "8d1ffe9e-4094-4bcc-9861-9dcd957f723d",
   "metadata": {},
   "outputs": [],
   "source": [
    "# general\n",
    "from joblib import dump, load\n",
    "\n",
    "# data\n",
    "import numpy as np\n",
    "import pandas as pd\n",
    "import pyarrow as pa\n",
    "\n",
    "# preprocessing\n",
    "from sklearn.preprocessing import OneHotEncoder\n",
    "from sklearn.preprocessing import MinMaxScaler\n",
    "\n",
    "# validation\n",
    "from sklearn.metrics import confusion_matrix\n",
    "import scikitplot as skplt\n",
    "\n",
    "# viz\n",
    "import matplotlib.pyplot as plt"
   ]
  },
  {
   "cell_type": "markdown",
   "id": "c3d8b707-b402-4908-b7bc-749ea01e38e3",
   "metadata": {},
   "source": [
    "# Get Original Data"
   ]
  },
  {
   "cell_type": "code",
   "execution_count": 2,
   "id": "ceb516c7-e274-4c8d-a8b1-194f075824c8",
   "metadata": {},
   "outputs": [
    {
     "data": {
      "text/html": [
       "<div>\n",
       "<style scoped>\n",
       "    .dataframe tbody tr th:only-of-type {\n",
       "        vertical-align: middle;\n",
       "    }\n",
       "\n",
       "    .dataframe tbody tr th {\n",
       "        vertical-align: top;\n",
       "    }\n",
       "\n",
       "    .dataframe thead th {\n",
       "        text-align: right;\n",
       "    }\n",
       "</style>\n",
       "<table border=\"1\" class=\"dataframe\">\n",
       "  <thead>\n",
       "    <tr style=\"text-align: right;\">\n",
       "      <th></th>\n",
       "      <th>income</th>\n",
       "      <th>race</th>\n",
       "      <th>state</th>\n",
       "      <th>age</th>\n",
       "      <th>sex</th>\n",
       "      <th>height</th>\n",
       "      <th>weight</th>\n",
       "      <th>general_health</th>\n",
       "      <th>doctor</th>\n",
       "      <th>medical_costs</th>\n",
       "      <th>checkup</th>\n",
       "      <th>exercise</th>\n",
       "      <th>marital</th>\n",
       "      <th>education</th>\n",
       "      <th>smoking</th>\n",
       "      <th>alcohol</th>\n",
       "      <th>diabetes</th>\n",
       "      <th>BMI</th>\n",
       "      <th>year</th>\n",
       "    </tr>\n",
       "  </thead>\n",
       "  <tbody>\n",
       "    <tr>\n",
       "      <th>0</th>\n",
       "      <td>10k-15k</td>\n",
       "      <td>white</td>\n",
       "      <td>AL</td>\n",
       "      <td>65-69</td>\n",
       "      <td>female</td>\n",
       "      <td>63.0</td>\n",
       "      <td>263.0</td>\n",
       "      <td>good</td>\n",
       "      <td>yes</td>\n",
       "      <td>no</td>\n",
       "      <td>1 year</td>\n",
       "      <td>no</td>\n",
       "      <td>single</td>\n",
       "      <td>12/ged</td>\n",
       "      <td>no</td>\n",
       "      <td>0</td>\n",
       "      <td>no</td>\n",
       "      <td>obese class III</td>\n",
       "      <td>2006</td>\n",
       "    </tr>\n",
       "    <tr>\n",
       "      <th>1</th>\n",
       "      <td>&lt;10k</td>\n",
       "      <td>white</td>\n",
       "      <td>AL</td>\n",
       "      <td>55-59</td>\n",
       "      <td>male</td>\n",
       "      <td>75.0</td>\n",
       "      <td>290.0</td>\n",
       "      <td>poor</td>\n",
       "      <td>yes</td>\n",
       "      <td>yes</td>\n",
       "      <td>2 years</td>\n",
       "      <td>no</td>\n",
       "      <td>married</td>\n",
       "      <td>1-8</td>\n",
       "      <td>no</td>\n",
       "      <td>0</td>\n",
       "      <td>no</td>\n",
       "      <td>obese class II</td>\n",
       "      <td>2006</td>\n",
       "    </tr>\n",
       "    <tr>\n",
       "      <th>2</th>\n",
       "      <td>35k-50k</td>\n",
       "      <td>black</td>\n",
       "      <td>AL</td>\n",
       "      <td>40-44</td>\n",
       "      <td>male</td>\n",
       "      <td>71.0</td>\n",
       "      <td>230.0</td>\n",
       "      <td>very good</td>\n",
       "      <td>yes</td>\n",
       "      <td>no</td>\n",
       "      <td>1 year</td>\n",
       "      <td>yes</td>\n",
       "      <td>married</td>\n",
       "      <td>12/ged</td>\n",
       "      <td>no</td>\n",
       "      <td>0</td>\n",
       "      <td>no</td>\n",
       "      <td>obese class I</td>\n",
       "      <td>2006</td>\n",
       "    </tr>\n",
       "    <tr>\n",
       "      <th>3</th>\n",
       "      <td>10k-15k</td>\n",
       "      <td>black</td>\n",
       "      <td>AL</td>\n",
       "      <td>35-39</td>\n",
       "      <td>male</td>\n",
       "      <td>75.0</td>\n",
       "      <td>320.0</td>\n",
       "      <td>very good</td>\n",
       "      <td>no</td>\n",
       "      <td>yes</td>\n",
       "      <td>5 years</td>\n",
       "      <td>yes</td>\n",
       "      <td>single</td>\n",
       "      <td>12/ged</td>\n",
       "      <td>no</td>\n",
       "      <td>0</td>\n",
       "      <td>no</td>\n",
       "      <td>obese class II</td>\n",
       "      <td>2006</td>\n",
       "    </tr>\n",
       "    <tr>\n",
       "      <th>4</th>\n",
       "      <td>50k-75k</td>\n",
       "      <td>white</td>\n",
       "      <td>AL</td>\n",
       "      <td>50-54</td>\n",
       "      <td>female</td>\n",
       "      <td>64.0</td>\n",
       "      <td>120.0</td>\n",
       "      <td>excellent</td>\n",
       "      <td>yes</td>\n",
       "      <td>no</td>\n",
       "      <td>2 years</td>\n",
       "      <td>yes</td>\n",
       "      <td>married</td>\n",
       "      <td>cg</td>\n",
       "      <td>no</td>\n",
       "      <td>2</td>\n",
       "      <td>no</td>\n",
       "      <td>normal</td>\n",
       "      <td>2006</td>\n",
       "    </tr>\n",
       "  </tbody>\n",
       "</table>\n",
       "</div>"
      ],
      "text/plain": [
       "    income   race state    age     sex  height  weight general_health doctor  \\\n",
       "0  10k-15k  white    AL  65-69  female    63.0   263.0           good    yes   \n",
       "1     <10k  white    AL  55-59    male    75.0   290.0           poor    yes   \n",
       "2  35k-50k  black    AL  40-44    male    71.0   230.0      very good    yes   \n",
       "3  10k-15k  black    AL  35-39    male    75.0   320.0      very good     no   \n",
       "4  50k-75k  white    AL  50-54  female    64.0   120.0      excellent    yes   \n",
       "\n",
       "  medical_costs  checkup exercise  marital education smoking  alcohol  \\\n",
       "0            no   1 year       no   single    12/ged      no        0   \n",
       "1           yes  2 years       no  married       1-8      no        0   \n",
       "2            no   1 year      yes  married    12/ged      no        0   \n",
       "3           yes  5 years      yes   single    12/ged      no        0   \n",
       "4            no  2 years      yes  married        cg      no        2   \n",
       "\n",
       "  diabetes              BMI  year  \n",
       "0       no  obese class III  2006  \n",
       "1       no   obese class II  2006  \n",
       "2       no    obese class I  2006  \n",
       "3       no   obese class II  2006  \n",
       "4       no           normal  2006  "
      ]
     },
     "execution_count": 2,
     "metadata": {},
     "output_type": "execute_result"
    }
   ],
   "source": [
    "df_orig = pd.read_parquet(\"./data/diabetes.parquet\")\n",
    "df_orig.head()"
   ]
  },
  {
   "cell_type": "markdown",
   "id": "c0a0a101-44e7-4cda-8149-d5222eedeea3",
   "metadata": {},
   "source": [
    "# Get Split Data"
   ]
  },
  {
   "cell_type": "code",
   "execution_count": 3,
   "id": "4ad4d4e0-cd47-4db8-b90e-195b8e1e4fc1",
   "metadata": {},
   "outputs": [],
   "source": [
    "data_dir = \"./data/\"\n",
    "\n",
    "x_train = np.load(data_dir + \"x_train.npy\")\n",
    "y_train = np.load(data_dir + \"y_train.npy\")\n",
    "\n",
    "x_test = np.load(data_dir + \"x_test.npy\")\n",
    "y_test = np.load(data_dir + \"y_test.npy\")\n",
    "\n",
    "x_validate = np.load(data_dir + \"x_validate.npy\")\n",
    "y_validate = np.load(data_dir + \"y_validate.npy\")"
   ]
  },
  {
   "cell_type": "markdown",
   "id": "9636539f-2c18-479a-a5a5-25b4fa84dda0",
   "metadata": {},
   "source": [
    "# Get Models"
   ]
  },
  {
   "cell_type": "code",
   "execution_count": 4,
   "id": "82392b25-1847-4d78-95d2-96707bcc2f32",
   "metadata": {},
   "outputs": [],
   "source": [
    "# get logistic regression model\n",
    "model_lr = load(\"model_lr.joblib\")\n",
    "\n",
    "# get random forest model\n",
    "model_rf = load(\"model_rf.joblib\")"
   ]
  },
  {
   "cell_type": "markdown",
   "id": "b7d67aa7-4045-4db7-8499-1525f997b88f",
   "metadata": {},
   "source": [
    "# Overall Accuracy"
   ]
  },
  {
   "cell_type": "code",
   "execution_count": 5,
   "id": "36af1c63-f890-4b9f-bc2b-bcac6dca9a38",
   "metadata": {},
   "outputs": [
    {
     "name": "stdout",
     "output_type": "stream",
     "text": [
      "0.8526636799073678\n",
      "Wall time: 309 ms\n"
     ]
    }
   ],
   "source": [
    "%%time\n",
    "# score logistic regression\n",
    "# print(model_lr.score(x_train, y_train))\n",
    "print(model_lr.score(x_test, y_test))"
   ]
  },
  {
   "cell_type": "code",
   "execution_count": 6,
   "id": "b8bd4a8a-004a-48cd-8cda-228e3dc7033f",
   "metadata": {},
   "outputs": [
    {
     "name": "stdout",
     "output_type": "stream",
     "text": [
      "0.8495938927392128\n",
      "Wall time: 15.8 s\n"
     ]
    }
   ],
   "source": [
    "%%time\n",
    "# score random forest\n",
    "# print(model_rf.score(x_train, y_train))\n",
    "print(model_rf.score(x_test, y_test))"
   ]
  },
  {
   "cell_type": "markdown",
   "id": "3d238e5b-e576-481b-9ba9-c9f3c102104d",
   "metadata": {},
   "source": [
    "# Confusion Matrix"
   ]
  },
  {
   "cell_type": "code",
   "execution_count": 7,
   "id": "bf5ea14f-f54e-4464-be6e-798c7f57562c",
   "metadata": {},
   "outputs": [],
   "source": [
    "def calc_cm_stats(arr_cm):\n",
    "    '''\n",
    "    calc summary stats for confusion matrix\n",
    "    \n",
    "    arr_cm (np.array): confusion matrix\n",
    "    - arr_cm = confusion_matrix(y_test, lr_y_predict, labels=[1,0])\n",
    "    - e.g., array([ [494086,   9950],\n",
    "                    [ 77594,  12548]], dtype=int64)\n",
    "    '''\n",
    "    \n",
    "    # https://en.wikipedia.org/wiki/Confusion_matrix\n",
    "    \n",
    "    tp = arr_cm[0,0]  # true positive\n",
    "    fp = arr_cm[1,0]  # false positive\n",
    "    fn = arr_cm[0,1]  # false negative\n",
    "    tn = arr_cm[1,1]  # true negative\n",
    "    \n",
    "    total = tp + fp + fn + tn\n",
    "    \n",
    "    accuracy = (tp + tn) / total  # same as model.score(x_test, y_test)\n",
    "    \n",
    "    sensitivity = tp / (tp + fn)  # aka true positive rate, recall, power\n",
    "    specificity = tn / (tn + fp)  # aka true negative rate, selectivity\n",
    "    \n",
    "    return {\n",
    "        'total': total,\n",
    "        'tp': tp,\n",
    "        'fp': fp,\n",
    "        'fn': fn,\n",
    "        'tn': tn,\n",
    "        'accuracy': accuracy,\n",
    "        'sensitivity': sensitivity,\n",
    "        'specificity': specificity\n",
    "    }"
   ]
  },
  {
   "cell_type": "code",
   "execution_count": 8,
   "id": "d948b284-1063-4699-a2e1-2315d5a65ccd",
   "metadata": {},
   "outputs": [
    {
     "data": {
      "text/plain": [
       "array([[ 12548,  77594],\n",
       "       [  9950, 494086]], dtype=int64)"
      ]
     },
     "execution_count": 8,
     "metadata": {},
     "output_type": "execute_result"
    }
   ],
   "source": [
    "# logistic regression\n",
    "\n",
    "# calc confusion matrix\n",
    "lr_y_predict = model_lr.predict(x_test)\n",
    "lr_arr_cm = confusion_matrix(y_test, lr_y_predict, labels=[1,0])\n",
    "lr_arr_cm"
   ]
  },
  {
   "cell_type": "code",
   "execution_count": 9,
   "id": "055b4ad7-d6a7-430c-a074-5d7d6031025f",
   "metadata": {},
   "outputs": [
    {
     "data": {
      "text/plain": [
       "{'total': 594178,\n",
       " 'tp': 12548,\n",
       " 'fp': 9950,\n",
       " 'fn': 77594,\n",
       " 'tn': 494086,\n",
       " 'accuracy': 0.8526636799073678,\n",
       " 'sensitivity': 0.13920259146679684,\n",
       " 'specificity': 0.9802593465546112}"
      ]
     },
     "execution_count": 9,
     "metadata": {},
     "output_type": "execute_result"
    }
   ],
   "source": [
    "# calc stats\n",
    "dict_lr_cm_stats = calc_cm_stats(lr_arr_cm)\n",
    "dict_lr_cm_stats"
   ]
  },
  {
   "cell_type": "code",
   "execution_count": 10,
   "id": "35be2085-e8bd-4767-b8a0-3abf44c7ebd0",
   "metadata": {},
   "outputs": [
    {
     "data": {
      "text/plain": [
       "array([[  1519,  88623],\n",
       "       [   745, 503291]], dtype=int64)"
      ]
     },
     "execution_count": 10,
     "metadata": {},
     "output_type": "execute_result"
    }
   ],
   "source": [
    "# random forest\n",
    "\n",
    "# calc confusion matrix\n",
    "rf_y_predict = model_rf.predict(x_test)\n",
    "rf_arr_cm = confusion_matrix(y_test, rf_y_predict, labels=[1,0])\n",
    "rf_arr_cm"
   ]
  },
  {
   "cell_type": "code",
   "execution_count": 12,
   "id": "2acb7b9e-cfe6-42bb-bb8e-179a232b5911",
   "metadata": {},
   "outputs": [
    {
     "data": {
      "text/plain": [
       "{'total': 594178,\n",
       " 'tp': 1519,\n",
       " 'fp': 745,\n",
       " 'fn': 88623,\n",
       " 'tn': 503291,\n",
       " 'accuracy': 0.8495938927392128,\n",
       " 'sensitivity': 0.016851190344123718,\n",
       " 'specificity': 0.9985219309731844}"
      ]
     },
     "execution_count": 12,
     "metadata": {},
     "output_type": "execute_result"
    }
   ],
   "source": [
    "# calc stats\n",
    "dict_rf_cm_stats = calc_cm_stats(rf_arr_cm)\n",
    "dict_rf_cm_stats"
   ]
  },
  {
   "cell_type": "markdown",
   "id": "ec6b8a85-7d6d-400a-ace5-b41933dd0383",
   "metadata": {},
   "source": [
    "# Lift Chart"
   ]
  },
  {
   "cell_type": "code",
   "execution_count": 24,
   "id": "d3de32f5-9f83-4fff-a2e5-745c2ace9333",
   "metadata": {},
   "outputs": [
    {
     "data": {
      "image/png": "[encoded data removed]",
      "text/plain": [
       "<Figure size 432x288 with 1 Axes>"
      ]
     },
     "metadata": {
      "needs_background": "light"
     },
     "output_type": "display_data"
    }
   ],
   "source": [
    "# logistic regression\n",
    "lr_y_probas = model_lr.predict_proba(x_test)\n",
    "lr_ax = skplt.metrics.plot_lift_curve(y_test, lr_y_probas)\n",
    "lr_ax.legend(labels=[\"No Diabetes\", \"Diabetes\"])\n",
    "# plt.show()\n",
    "plt.savefig(\"./lr_lift_chart.png\")"
   ]
  },
  {
   "cell_type": "code",
   "execution_count": 25,
   "id": "6419bc08-d566-4aef-bb2f-84ad79920e09",
   "metadata": {},
   "outputs": [
    {
     "data": {
      "image/png": "[encoded data removed]",
      "text/plain": [
       "<Figure size 432x288 with 1 Axes>"
      ]
     },
     "metadata": {
      "needs_background": "light"
     },
     "output_type": "display_data"
    }
   ],
   "source": [
    "# random forest\n",
    "rf_y_probas = model_rf.predict_proba(x_test)\n",
    "rf_ax = skplt.metrics.plot_lift_curve(y_test, rf_y_probas)\n",
    "rf_ax.legend(labels=[\"No Diabetes\", \"Diabetes\"])\n",
    "# plt.show()\n",
    "plt.savefig(\"./rf_lift_chart.png\")"
   ]
  }
 ],
 "metadata": {
  "kernelspec": {
   "display_name": "csc",
   "language": "python",
   "name": "csc"
  },
  "language_info": {
   "codemirror_mode": {
    "name": "ipython",
    "version": 3
   },
   "file_extension": ".py",
   "mimetype": "text/x-python",
   "name": "python",
   "nbconvert_exporter": "python",
   "pygments_lexer": "ipython3",
   "version": "3.9.7"
  }
 },
 "nbformat": 4,
 "nbformat_minor": 5
}
