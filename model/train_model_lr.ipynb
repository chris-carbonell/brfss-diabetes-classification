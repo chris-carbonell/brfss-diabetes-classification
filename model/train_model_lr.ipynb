{
 "cells": [
  {
   "cell_type": "markdown",
   "id": "96195e1a-2a4e-4ab7-8b61-8425bf35d3f6",
   "metadata": {},
   "source": [
    "# Overview\n",
    "* logistic regression"
   ]
  },
  {
   "cell_type": "markdown",
   "id": "394aa22f-7119-4325-bbc6-123c290bedc7",
   "metadata": {},
   "source": [
    "# Dependnecies"
   ]
  },
  {
   "cell_type": "code",
   "execution_count": 1,
   "id": "8d1ffe9e-4094-4bcc-9861-9dcd957f723d",
   "metadata": {},
   "outputs": [],
   "source": [
    "# general\n",
    "from joblib import dump, load\n",
    "\n",
    "# data\n",
    "import numpy as np\n",
    "import pandas as pd\n",
    "\n",
    "# model\n",
    "from sklearn.linear_model import LogisticRegression"
   ]
  },
  {
   "cell_type": "markdown",
   "id": "c3d8b707-b402-4908-b7bc-749ea01e38e3",
   "metadata": {},
   "source": [
    "# Get Data"
   ]
  },
  {
   "cell_type": "code",
   "execution_count": 2,
   "id": "054faf23-7cb2-4942-90f2-e9fbcd84cc24",
   "metadata": {},
   "outputs": [],
   "source": [
    "data_dir = \"./data/\"\n",
    "\n",
    "x_train = np.load(data_dir + \"x_train.npy\")\n",
    "y_train = np.load(data_dir + \"y_train.npy\")\n",
    "\n",
    "x_test = np.load(data_dir + \"x_test.npy\")\n",
    "y_test = np.load(data_dir + \"y_test.npy\")\n",
    "\n",
    "x_validate = np.load(data_dir + \"x_validate.npy\")\n",
    "y_validate = np.load(data_dir + \"y_validate.npy\")"
   ]
  },
  {
   "cell_type": "markdown",
   "id": "d46bc5aa-8068-4c23-b751-4cc34816f249",
   "metadata": {},
   "source": [
    "# Logistic Regression"
   ]
  },
  {
   "cell_type": "code",
   "execution_count": 5,
   "id": "5ac782ca-2c25-475a-be24-fcacf709c163",
   "metadata": {},
   "outputs": [
    {
     "name": "stdout",
     "output_type": "stream",
     "text": [
      "Wall time: 44min 39s\n"
     ]
    },
    {
     "data": {
      "text/plain": [
       "LogisticRegression(max_iter=1000, solver='saga')"
      ]
     },
     "execution_count": 5,
     "metadata": {},
     "output_type": "execute_result"
    }
   ],
   "source": [
    "%%time\n",
    "model_lr = LogisticRegression(solver=\"saga\", max_iter=1000)  # max_iter = 100 ConvergenceWarning\n",
    "model_lr.fit(x_train, y_train)"
   ]
  },
  {
   "cell_type": "code",
   "execution_count": 6,
   "id": "aced6384-c1ee-4be0-ba51-465d54ff9fbd",
   "metadata": {},
   "outputs": [
    {
     "data": {
      "text/plain": [
       "['model_lr.joblib']"
      ]
     },
     "execution_count": 6,
     "metadata": {},
     "output_type": "execute_result"
    }
   ],
   "source": [
    "# save model\n",
    "dump(model_lr, \"model_lr.joblib\")"
   ]
  }
 ],
 "metadata": {
  "kernelspec": {
   "display_name": "csc",
   "language": "python",
   "name": "csc"
  },
  "language_info": {
   "codemirror_mode": {
    "name": "ipython",
    "version": 3
   },
   "file_extension": ".py",
   "mimetype": "text/x-python",
   "name": "python",
   "nbconvert_exporter": "python",
   "pygments_lexer": "ipython3",
   "version": "3.9.7"
  }
 },
 "nbformat": 4,
 "nbformat_minor": 5
}
