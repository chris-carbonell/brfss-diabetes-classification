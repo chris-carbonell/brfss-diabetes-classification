{
 "cells": [
  {
   "cell_type": "markdown",
   "id": "96195e1a-2a4e-4ab7-8b61-8425bf35d3f6",
   "metadata": {},
   "source": [
    "# Overview\n",
    "* random forest"
   ]
  },
  {
   "cell_type": "markdown",
   "id": "394aa22f-7119-4325-bbc6-123c290bedc7",
   "metadata": {},
   "source": [
    "# Dependnecies"
   ]
  },
  {
   "cell_type": "code",
   "execution_count": 1,
   "id": "8d1ffe9e-4094-4bcc-9861-9dcd957f723d",
   "metadata": {},
   "outputs": [],
   "source": [
    "# general\n",
    "from joblib import dump, load\n",
    "\n",
    "# data\n",
    "import numpy as np\n",
    "import pandas as pd\n",
    "\n",
    "# model\n",
    "from sklearn.ensemble import RandomForestClassifier"
   ]
  },
  {
   "cell_type": "markdown",
   "id": "c3d8b707-b402-4908-b7bc-749ea01e38e3",
   "metadata": {},
   "source": [
    "# Get Data"
   ]
  },
  {
   "cell_type": "code",
   "execution_count": null,
   "id": "3940e6c5-b1a4-4359-9904-0dfde17d4f00",
   "metadata": {},
   "outputs": [],
   "source": [
    "data_dir = \"./data/\"\n",
    "\n",
    "x_train = np.load(data_dir + \"x_train.npy\")\n",
    "y_train = np.load(data_dir + \"y_train.npy\")\n",
    "\n",
    "x_test = np.load(data_dir + \"x_test.npy\")\n",
    "y_test = np.load(data_dir + \"y_test.npy\")\n",
    "\n",
    "x_validate = np.load(data_dir + \"x_validate.npy\")\n",
    "y_validate = np.load(data_dir + \"y_validate.npy\")"
   ]
  },
  {
   "cell_type": "markdown",
   "id": "e5725bfa-6bcf-4306-a6b4-8a6e61fbdc78",
   "metadata": {},
   "source": [
    "# Random Forest"
   ]
  },
  {
   "cell_type": "code",
   "execution_count": null,
   "id": "117f1e13-13ed-4708-b5d3-30e7f177b567",
   "metadata": {},
   "outputs": [],
   "source": [
    "%%time\n",
    "model_rf = RandomForestClassifier(random_state=0, max_depth=10)\n",
    "model_rf.fit(x_train, y_train)"
   ]
  },
  {
   "cell_type": "code",
   "execution_count": null,
   "id": "884dea6f-fec8-42a4-95af-dcd89c9f34cd",
   "metadata": {},
   "outputs": [],
   "source": [
    "# save model\n",
    "dump(model_rf, \"model_rf.joblib\")"
   ]
  }
 ],
 "metadata": {
  "kernelspec": {
   "display_name": "csc",
   "language": "python",
   "name": "csc"
  },
  "language_info": {
   "codemirror_mode": {
    "name": "ipython",
    "version": 3
   },
   "file_extension": ".py",
   "mimetype": "text/x-python",
   "name": "python",
   "nbconvert_exporter": "python",
   "pygments_lexer": "ipython3",
   "version": "3.9.7"
  }
 },
 "nbformat": 4,
 "nbformat_minor": 5
}
