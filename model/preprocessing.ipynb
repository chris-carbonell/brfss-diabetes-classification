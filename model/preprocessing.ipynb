{
 "cells": [
  {
   "cell_type": "markdown",
   "id": "96195e1a-2a4e-4ab7-8b61-8425bf35d3f6",
   "metadata": {},
   "source": [
    "# Overview\n",
    "* prep data for models"
   ]
  },
  {
   "cell_type": "markdown",
   "id": "394aa22f-7119-4325-bbc6-123c290bedc7",
   "metadata": {},
   "source": [
    "# Dependnecies"
   ]
  },
  {
   "cell_type": "code",
   "execution_count": 19,
   "id": "8d1ffe9e-4094-4bcc-9861-9dcd957f723d",
   "metadata": {},
   "outputs": [],
   "source": [
    "# data\n",
    "import numpy as np\n",
    "import pandas as pd\n",
    "import pyarrow as pa\n",
    "\n",
    "# preprocessing\n",
    "from sklearn.preprocessing import OneHotEncoder\n",
    "from sklearn.preprocessing import MinMaxScaler\n",
    "\n",
    "# training\n",
    "from sklearn.model_selection import train_test_split"
   ]
  },
  {
   "cell_type": "markdown",
   "id": "c3d8b707-b402-4908-b7bc-749ea01e38e3",
   "metadata": {},
   "source": [
    "# Get Original Data"
   ]
  },
  {
   "cell_type": "code",
   "execution_count": 2,
   "id": "ceb516c7-e274-4c8d-a8b1-194f075824c8",
   "metadata": {},
   "outputs": [
    {
     "data": {
      "text/html": [
       "<div>\n",
       "<style scoped>\n",
       "    .dataframe tbody tr th:only-of-type {\n",
       "        vertical-align: middle;\n",
       "    }\n",
       "\n",
       "    .dataframe tbody tr th {\n",
       "        vertical-align: top;\n",
       "    }\n",
       "\n",
       "    .dataframe thead th {\n",
       "        text-align: right;\n",
       "    }\n",
       "</style>\n",
       "<table border=\"1\" class=\"dataframe\">\n",
       "  <thead>\n",
       "    <tr style=\"text-align: right;\">\n",
       "      <th></th>\n",
       "      <th>income</th>\n",
       "      <th>race</th>\n",
       "      <th>state</th>\n",
       "      <th>age</th>\n",
       "      <th>sex</th>\n",
       "      <th>height</th>\n",
       "      <th>weight</th>\n",
       "      <th>general_health</th>\n",
       "      <th>doctor</th>\n",
       "      <th>medical_costs</th>\n",
       "      <th>checkup</th>\n",
       "      <th>exercise</th>\n",
       "      <th>marital</th>\n",
       "      <th>education</th>\n",
       "      <th>smoking</th>\n",
       "      <th>alcohol</th>\n",
       "      <th>diabetes</th>\n",
       "      <th>BMI</th>\n",
       "      <th>year</th>\n",
       "    </tr>\n",
       "  </thead>\n",
       "  <tbody>\n",
       "    <tr>\n",
       "      <th>0</th>\n",
       "      <td>10k-15k</td>\n",
       "      <td>white</td>\n",
       "      <td>AL</td>\n",
       "      <td>65-69</td>\n",
       "      <td>female</td>\n",
       "      <td>63.0</td>\n",
       "      <td>263.0</td>\n",
       "      <td>good</td>\n",
       "      <td>yes</td>\n",
       "      <td>no</td>\n",
       "      <td>1 year</td>\n",
       "      <td>no</td>\n",
       "      <td>single</td>\n",
       "      <td>12/ged</td>\n",
       "      <td>no</td>\n",
       "      <td>0</td>\n",
       "      <td>no</td>\n",
       "      <td>obese class III</td>\n",
       "      <td>2006</td>\n",
       "    </tr>\n",
       "    <tr>\n",
       "      <th>1</th>\n",
       "      <td>&lt;10k</td>\n",
       "      <td>white</td>\n",
       "      <td>AL</td>\n",
       "      <td>55-59</td>\n",
       "      <td>male</td>\n",
       "      <td>75.0</td>\n",
       "      <td>290.0</td>\n",
       "      <td>poor</td>\n",
       "      <td>yes</td>\n",
       "      <td>yes</td>\n",
       "      <td>2 years</td>\n",
       "      <td>no</td>\n",
       "      <td>married</td>\n",
       "      <td>1-8</td>\n",
       "      <td>no</td>\n",
       "      <td>0</td>\n",
       "      <td>no</td>\n",
       "      <td>obese class II</td>\n",
       "      <td>2006</td>\n",
       "    </tr>\n",
       "    <tr>\n",
       "      <th>2</th>\n",
       "      <td>35k-50k</td>\n",
       "      <td>black</td>\n",
       "      <td>AL</td>\n",
       "      <td>40-44</td>\n",
       "      <td>male</td>\n",
       "      <td>71.0</td>\n",
       "      <td>230.0</td>\n",
       "      <td>very good</td>\n",
       "      <td>yes</td>\n",
       "      <td>no</td>\n",
       "      <td>1 year</td>\n",
       "      <td>yes</td>\n",
       "      <td>married</td>\n",
       "      <td>12/ged</td>\n",
       "      <td>no</td>\n",
       "      <td>0</td>\n",
       "      <td>no</td>\n",
       "      <td>obese class I</td>\n",
       "      <td>2006</td>\n",
       "    </tr>\n",
       "    <tr>\n",
       "      <th>3</th>\n",
       "      <td>10k-15k</td>\n",
       "      <td>black</td>\n",
       "      <td>AL</td>\n",
       "      <td>35-39</td>\n",
       "      <td>male</td>\n",
       "      <td>75.0</td>\n",
       "      <td>320.0</td>\n",
       "      <td>very good</td>\n",
       "      <td>no</td>\n",
       "      <td>yes</td>\n",
       "      <td>5 years</td>\n",
       "      <td>yes</td>\n",
       "      <td>single</td>\n",
       "      <td>12/ged</td>\n",
       "      <td>no</td>\n",
       "      <td>0</td>\n",
       "      <td>no</td>\n",
       "      <td>obese class II</td>\n",
       "      <td>2006</td>\n",
       "    </tr>\n",
       "    <tr>\n",
       "      <th>4</th>\n",
       "      <td>50k-75k</td>\n",
       "      <td>white</td>\n",
       "      <td>AL</td>\n",
       "      <td>50-54</td>\n",
       "      <td>female</td>\n",
       "      <td>64.0</td>\n",
       "      <td>120.0</td>\n",
       "      <td>excellent</td>\n",
       "      <td>yes</td>\n",
       "      <td>no</td>\n",
       "      <td>2 years</td>\n",
       "      <td>yes</td>\n",
       "      <td>married</td>\n",
       "      <td>cg</td>\n",
       "      <td>no</td>\n",
       "      <td>2</td>\n",
       "      <td>no</td>\n",
       "      <td>normal</td>\n",
       "      <td>2006</td>\n",
       "    </tr>\n",
       "  </tbody>\n",
       "</table>\n",
       "</div>"
      ],
      "text/plain": [
       "    income   race state    age     sex  height  weight general_health doctor  \\\n",
       "0  10k-15k  white    AL  65-69  female    63.0   263.0           good    yes   \n",
       "1     <10k  white    AL  55-59    male    75.0   290.0           poor    yes   \n",
       "2  35k-50k  black    AL  40-44    male    71.0   230.0      very good    yes   \n",
       "3  10k-15k  black    AL  35-39    male    75.0   320.0      very good     no   \n",
       "4  50k-75k  white    AL  50-54  female    64.0   120.0      excellent    yes   \n",
       "\n",
       "  medical_costs  checkup exercise  marital education smoking  alcohol  \\\n",
       "0            no   1 year       no   single    12/ged      no        0   \n",
       "1           yes  2 years       no  married       1-8      no        0   \n",
       "2            no   1 year      yes  married    12/ged      no        0   \n",
       "3           yes  5 years      yes   single    12/ged      no        0   \n",
       "4            no  2 years      yes  married        cg      no        2   \n",
       "\n",
       "  diabetes              BMI  year  \n",
       "0       no  obese class III  2006  \n",
       "1       no   obese class II  2006  \n",
       "2       no    obese class I  2006  \n",
       "3       no   obese class II  2006  \n",
       "4       no           normal  2006  "
      ]
     },
     "execution_count": 2,
     "metadata": {},
     "output_type": "execute_result"
    }
   ],
   "source": [
    "df_orig = pd.read_parquet(\"./data/diabetes.parquet\")\n",
    "df_orig.head()"
   ]
  },
  {
   "cell_type": "code",
   "execution_count": 3,
   "id": "bf161b7e-b7c2-42e3-b67f-e96561e9b986",
   "metadata": {},
   "outputs": [
    {
     "data": {
      "text/plain": [
       "5941780"
      ]
     },
     "execution_count": 3,
     "metadata": {},
     "output_type": "execute_result"
    }
   ],
   "source": [
    "len(df_orig.index)"
   ]
  },
  {
   "cell_type": "markdown",
   "id": "2ee6297b-57d7-4b8e-8967-104274787699",
   "metadata": {},
   "source": [
    "# Preprocessing\n",
    "* Prepping Data for Logistic Regression<br>\n",
    "https://medium.com/@veramiler/the-logistic-regression-in-python-how-to-prepare-a-data-and-find-the-best-model-a85a6563cf96\n",
    "* Yes/No to 1/0<br>\n",
    "https://stackoverflow.com/questions/40901770/is-there-a-simple-way-to-change-a-column-of-yes-no-to-1-0-in-a-pandas-dataframe"
   ]
  },
  {
   "cell_type": "markdown",
   "id": "348db2e0-a8f6-4688-9093-558b41974137",
   "metadata": {},
   "source": [
    "## Scale"
   ]
  },
  {
   "cell_type": "code",
   "execution_count": 4,
   "id": "e1eb4fea-2a07-4b31-8240-e67016408854",
   "metadata": {},
   "outputs": [],
   "source": [
    "df_scaled = df_orig.loc[:, ['height', 'weight', 'alcohol']]\n",
    "scaler = MinMaxScaler()\n",
    "arr_scaled = scaler.fit_transform(df_scaled)"
   ]
  },
  {
   "cell_type": "markdown",
   "id": "b1e568ad-f770-44b8-8895-8504dc21b7c2",
   "metadata": {},
   "source": [
    "## Yes = 1, No = 0"
   ]
  },
  {
   "cell_type": "code",
   "execution_count": 5,
   "id": "2080a898-1aa2-41da-95d1-9d8866840a3f",
   "metadata": {},
   "outputs": [],
   "source": [
    "arr_yesno = df_orig.loc[:, ['doctor', 'medical_costs', 'exercise', 'smoking']].to_numpy()\n",
    "arr_yesno = np.where(arr_yesno == \"yes\", 1, 0)"
   ]
  },
  {
   "cell_type": "code",
   "execution_count": 6,
   "id": "973f061e-3d7d-415d-9aa6-375ff1d5d43c",
   "metadata": {},
   "outputs": [],
   "source": [
    "arr_diabetes_actual = df_orig.loc[:, 'diabetes'].to_numpy()\n",
    "arr_diabetes_actual = np.where(arr_diabetes_actual == \"yes\", 1, 0)"
   ]
  },
  {
   "cell_type": "code",
   "execution_count": 7,
   "id": "3173401b-b8f5-4014-a580-122cdec2189c",
   "metadata": {},
   "outputs": [
    {
     "data": {
      "text/plain": [
       "(5941780,)"
      ]
     },
     "execution_count": 7,
     "metadata": {},
     "output_type": "execute_result"
    }
   ],
   "source": [
    "arr_diabetes_actual.shape"
   ]
  },
  {
   "cell_type": "code",
   "execution_count": 8,
   "id": "bebb5eff-12c0-4001-b0a7-1dc0967a2473",
   "metadata": {},
   "outputs": [
    {
     "data": {
      "text/plain": [
       "array([0, 0, 0, ..., 0, 0, 1])"
      ]
     },
     "execution_count": 8,
     "metadata": {},
     "output_type": "execute_result"
    }
   ],
   "source": [
    "arr_diabetes_actual"
   ]
  },
  {
   "cell_type": "markdown",
   "id": "53a9e347-af43-4956-9727-0173f071971b",
   "metadata": {},
   "source": [
    "## Label Encode"
   ]
  },
  {
   "cell_type": "code",
   "execution_count": 9,
   "id": "5634788c-c09d-47ec-bd6f-5f5a9642d9f2",
   "metadata": {},
   "outputs": [],
   "source": [
    "# df_orig['sex'].unique()"
   ]
  },
  {
   "cell_type": "code",
   "execution_count": 10,
   "id": "26d76239-0b1f-45c2-8ec5-a47372aee23d",
   "metadata": {},
   "outputs": [],
   "source": [
    "# df_orig.groupby(['year', 'sex']).size()"
   ]
  },
  {
   "cell_type": "code",
   "execution_count": 11,
   "id": "a77a182f-3d81-41df-aca8-12a373b6dbff",
   "metadata": {},
   "outputs": [],
   "source": [
    "# dicts\n",
    "\n",
    "dict_inc = {\n",
    "    '<10k': 0,\n",
    "    '10k-15k': 1,\n",
    "    '15k-20k': 2,\n",
    "    '20k-25k': 3,\n",
    "    '25k-35k': 4,\n",
    "    '35k-50k': 5, \n",
    "    '50k-75k': 6, \n",
    "    '>75k': 7 \n",
    "}\n",
    "\n",
    "dict_age = {\n",
    "    '18-24': 0,\n",
    "    '25-29': 1,\n",
    "    '30-34': 2,\n",
    "    '35-39': 3,\n",
    "    '40-44': 4,\n",
    "    '45-49': 5,\n",
    "    '50-54': 6,\n",
    "    '55-59': 7,\n",
    "    '60-64': 8,\n",
    "    '65-69': 9,\n",
    "    '70-74': 10,\n",
    "    '75-79': 11,\n",
    "    '80+': 12 \n",
    "}\n",
    "\n",
    "dict_gh = {\n",
    "    'poor': 0,\n",
    "    'fair': 1,\n",
    "    'good': 2,\n",
    "    'very good': 3,\n",
    "    'excellent': 4\n",
    "}\n",
    "\n",
    "dict_cu = {\n",
    "    '1 year': 1,\n",
    "    '2 years': 2,\n",
    "    '3 years': 3,\n",
    "    '4 years': 4,\n",
    "    '5 years': 5,\n",
    "    '>5 years': 6,\n",
    "    'never': 100,\n",
    "    'unknown': 100\n",
    "}\n",
    "\n",
    "dict_bmi = {\n",
    "    'very severely underweight': 0, \n",
    "    'severely underweight': 1,\n",
    "    'underweight': 2, \n",
    "    'normal': 3, \n",
    "    'overweight': 4, \n",
    "    'obese class I': 5, \n",
    "    'obese class II': 6, \n",
    "    'obese class III': 7\n",
    "}\n",
    "\n",
    "dict_sex = {\n",
    "    'female': 0,\n",
    "    'male': 1\n",
    "}\n",
    "\n",
    "dict_ed = {\n",
    "    'none': 0,\n",
    "    '1-8': 1, \n",
    "    '9-11': 2,\n",
    "    '12/ged': 3,\n",
    "    'c1-3': 4,\n",
    "    'cg': 5\n",
    "}"
   ]
  },
  {
   "cell_type": "code",
   "execution_count": 12,
   "id": "560d22f6-cc20-4867-8a01-8b55866ad78d",
   "metadata": {},
   "outputs": [],
   "source": [
    "# replace\n",
    "\n",
    "dict_cols = {\n",
    "    'income': dict_inc, \n",
    "    'age': dict_age, \n",
    "    'general_health': dict_gh, \n",
    "    'checkup': dict_cu, \n",
    "    'BMI': dict_bmi,\n",
    "    'sex': dict_sex,\n",
    "    'education': dict_ed\n",
    "}\n",
    "\n",
    "ls_replaced = []\n",
    "for col, dict_map in dict_cols.items():\n",
    "    # print(col)\n",
    "    ls_replaced.append([dict_map[cat] for cat in df_orig[col]])"
   ]
  },
  {
   "cell_type": "code",
   "execution_count": 13,
   "id": "bfe8bb35-31b8-4ffa-aaa7-e1a825fd5528",
   "metadata": {},
   "outputs": [],
   "source": [
    "arr_cat = np.array(ls_replaced).transpose()"
   ]
  },
  {
   "cell_type": "markdown",
   "id": "9470dbd7-b7e0-4ec9-b5f1-928446afe32a",
   "metadata": {},
   "source": [
    "## One Hot Encode"
   ]
  },
  {
   "cell_type": "code",
   "execution_count": 14,
   "id": "85d3a0b5-7e63-43e6-8564-a47a9069609b",
   "metadata": {},
   "outputs": [],
   "source": [
    "arr_ohe = pd.get_dummies(df_orig[['race', 'state', 'marital']], drop_first=True).to_numpy()"
   ]
  },
  {
   "cell_type": "markdown",
   "id": "9bdae64c-3490-4dc7-9b57-f8f9ee765bf2",
   "metadata": {},
   "source": [
    "## Combined"
   ]
  },
  {
   "cell_type": "code",
   "execution_count": 15,
   "id": "999cb716-0457-49a9-9720-7b68d7215851",
   "metadata": {},
   "outputs": [],
   "source": [
    "arr_diabetes = np.concatenate((arr_scaled, arr_yesno, arr_cat, arr_ohe), axis=1)"
   ]
  },
  {
   "cell_type": "code",
   "execution_count": 16,
   "id": "c5de5ca3-2e6b-4097-8f87-551f1b4efcee",
   "metadata": {},
   "outputs": [
    {
     "data": {
      "text/plain": [
       "(5941780, 78)"
      ]
     },
     "execution_count": 16,
     "metadata": {},
     "output_type": "execute_result"
    }
   ],
   "source": [
    "arr_diabetes.shape"
   ]
  },
  {
   "cell_type": "markdown",
   "id": "b8e7a268-a02d-4d15-b715-8dcf9bf0a5b4",
   "metadata": {},
   "source": [
    "# Split"
   ]
  },
  {
   "cell_type": "code",
   "execution_count": 20,
   "id": "61570005-d512-4c05-94cc-0ea12d928f2a",
   "metadata": {},
   "outputs": [
    {
     "name": "stdout",
     "output_type": "stream",
     "text": [
      "Wall time: 49.5 s\n"
     ]
    }
   ],
   "source": [
    "%%time\n",
    "x_train, x_tv, y_train, y_tv = train_test_split(arr_diabetes, arr_diabetes_actual, test_size=0.2, random_state=0)\n",
    "x_test, x_validate, y_test, y_validate = train_test_split(x_tv, y_tv, test_size=0.5, random_state=0)"
   ]
  },
  {
   "cell_type": "markdown",
   "id": "5f686ff6-5310-43f5-b42e-3000b2f3e1aa",
   "metadata": {},
   "source": [
    "# Save"
   ]
  },
  {
   "cell_type": "markdown",
   "id": "9f2708d6-b75a-4235-99de-39be76cca572",
   "metadata": {},
   "source": [
    "## npy"
   ]
  },
  {
   "cell_type": "code",
   "execution_count": 21,
   "id": "37e2892e-cac7-4b3a-aa26-f16eba7abd27",
   "metadata": {},
   "outputs": [],
   "source": [
    "dict_save_npy = {\n",
    "    \"arr_diabetes.npy\": arr_diabetes,  # 3.45 GB\n",
    "    \"arr_diabetes_actual.npy\": arr_diabetes_actual,\n",
    "    \"x_train.npy\": x_train,\n",
    "    \"y_train.npy\": y_train,\n",
    "    \"x_test.npy\": x_test,\n",
    "    \"y_test.npy\": y_test,\n",
    "    \"x_validate.npy\": x_validate,\n",
    "    \"y_validate.npy\": y_validate\n",
    "}"
   ]
  },
  {
   "cell_type": "code",
   "execution_count": 22,
   "id": "a0008f2c-5f15-420a-81e6-4a8f149877bd",
   "metadata": {},
   "outputs": [],
   "source": [
    "output_dir = \"./data/\"\n",
    "for filename, arr in dict_save_npy.items():\n",
    "    with open(output_dir + filename, 'wb') as f:\n",
    "        np.save(f, arr)"
   ]
  },
  {
   "cell_type": "markdown",
   "id": "846431d8-80cb-447c-9387-b77feb29ef09",
   "metadata": {},
   "source": [
    "## parquet"
   ]
  },
  {
   "cell_type": "code",
   "execution_count": null,
   "id": "74fa816a-087a-4b1d-878b-4352ca8e21a1",
   "metadata": {},
   "outputs": [],
   "source": [
    "# dict_data = {}\n",
    "# for col in range(arr_diabetes.shape[1]):\n",
    "#     dict_data[col] = arr_diabetes[:, col]"
   ]
  },
  {
   "cell_type": "code",
   "execution_count": null,
   "id": "e487e790-bf88-4722-a080-9ea173d4d658",
   "metadata": {},
   "outputs": [],
   "source": [
    "# pa_table = pa.table(dict_data)\n",
    "# pa.parquet.write_table(pa_table, \"arr_diabetes.parquet\")"
   ]
  }
 ],
 "metadata": {
  "kernelspec": {
   "display_name": "csc",
   "language": "python",
   "name": "csc"
  },
  "language_info": {
   "codemirror_mode": {
    "name": "ipython",
    "version": 3
   },
   "file_extension": ".py",
   "mimetype": "text/x-python",
   "name": "python",
   "nbconvert_exporter": "python",
   "pygments_lexer": "ipython3",
   "version": "3.9.7"
  }
 },
 "nbformat": 4,
 "nbformat_minor": 5
}
