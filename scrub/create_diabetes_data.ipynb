{
 "cells": [
  {
   "cell_type": "markdown",
   "id": "d595dc2c-ab44-4fd1-80c2-36e5b1747990",
   "metadata": {},
   "source": [
    "# Overview\n",
    "* calc summary statistics for paper\n",
    "* create viz for paper"
   ]
  },
  {
   "cell_type": "markdown",
   "id": "69f5f3f4-7161-4b86-81e7-806ef9fefd3b",
   "metadata": {},
   "source": [
    "# Dependencies"
   ]
  },
  {
   "cell_type": "code",
   "execution_count": 1,
   "id": "81a10c78-3810-4c3f-827e-144f5904c8d7",
   "metadata": {},
   "outputs": [],
   "source": [
    "# general\n",
    "import os\n",
    "import pathlib\n",
    "\n",
    "# data\n",
    "import numpy as np\n",
    "import pandas as pd\n",
    "import pyarrow.parquet as pq\n",
    "import pyarrow as pa\n",
    "\n",
    "# viz\n",
    "import matplotlib.pyplot as plt\n",
    "\n",
    "# config\n",
    "import config_scrub as cs\n",
    "\n",
    "# scrub\n",
    "import scrub_tools as st"
   ]
  },
  {
   "cell_type": "markdown",
   "id": "a0006223-6283-4370-ba87-bb06af8bdd4d",
   "metadata": {},
   "source": [
    "# Get Config"
   ]
  },
  {
   "cell_type": "code",
   "execution_count": 2,
   "id": "78b55267-e996-4bd0-aec5-a19f4466ba51",
   "metadata": {},
   "outputs": [],
   "source": [
    "# get config\n",
    "dict_col_names = cs.dict_col_names\n",
    "\n",
    "# applicable_years\n",
    "ls_years = [year for year in dict_col_names.keys() if year != \"default\"]"
   ]
  },
  {
   "cell_type": "markdown",
   "id": "2fda46fa-7977-4a87-83f4-ccbfeddbc108",
   "metadata": {},
   "source": [
    "# Get Data\n",
    "* loop over years\n",
    "* for each year, read in parquet\n",
    "* in df_YYYY, add column for the year\n",
    "* append to giatn df\n",
    "* save giant df as parquet"
   ]
  },
  {
   "cell_type": "code",
   "execution_count": 3,
   "id": "ba438f24-efe4-4b25-8fe0-1bd257276953",
   "metadata": {},
   "outputs": [
    {
     "name": "stdout",
     "output_type": "stream",
     "text": [
      "output_filename does not exist so creating\n"
     ]
    }
   ],
   "source": [
    "# create diabetes dataset if it doesn't already exist\n",
    "# o/w just read it in\n",
    "\n",
    "output_filename = \"./clean/diabetes.parquet\"\n",
    "\n",
    "if not os.path.exists(output_filename):\n",
    "    \n",
    "    # log\n",
    "    print(\"output_filename does not exist so creating\")\n",
    "\n",
    "    # get each year's data\n",
    "    ls_dfs = []\n",
    "    for year in ls_years:\n",
    "\n",
    "        # get df\n",
    "        df_YYYY = pd.read_parquet(cs.get_parquet_filename(year))\n",
    "\n",
    "        # add year column\n",
    "        df_YYYY['year'] = year\n",
    "\n",
    "        # append\n",
    "        ls_dfs.append(df_YYYY)\n",
    "        \n",
    "    # create giant df\n",
    "    df_all = pd.concat(ls_dfs)\n",
    "\n",
    "    # drop nulls\n",
    "    df_all = df_all.dropna()\n",
    "    \n",
    "    # save to parquet\n",
    "    tbl_all = pa.Table.from_pandas(df_all)\n",
    "    pq.write_table(tbl_all, \"./clean/diabetes.parquet\")\n",
    "    \n",
    "else:\n",
    "    \n",
    "    # log\n",
    "    print(\"output_filename does exist so just loading\")\n",
    "    \n",
    "    # get df\n",
    "    df_all = pd.read_parquet(output_filename)"
   ]
  },
  {
   "cell_type": "markdown",
   "id": "dcaf0411-fc91-46c5-abad-91892646412d",
   "metadata": {},
   "source": [
    "# Summarize"
   ]
  },
  {
   "cell_type": "code",
   "execution_count": 4,
   "id": "e2e8adb7-4afe-476e-88f1-685ac18df4d7",
   "metadata": {},
   "outputs": [
    {
     "name": "stdout",
     "output_type": "stream",
     "text": [
      "number of records: 5941780\n",
      "number of columns: 19\n"
     ]
    }
   ],
   "source": [
    "# number of records and cols\n",
    "print(f\"number of records: {len(df_all.index)}\")\n",
    "print(f\"number of columns: {len(df_all.columns)}\")"
   ]
  },
  {
   "cell_type": "code",
   "execution_count": 5,
   "id": "aad7c298-a048-406c-ac60-933cd2f8631d",
   "metadata": {},
   "outputs": [],
   "source": [
    "# overall % diabetes\n",
    "df_grp_diabetes = df_all.groupby(['diabetes']).size().reset_index(name='counts')\n",
    "count_total = df_grp_diabetes['counts'].sum()\n",
    "df_grp_diabetes['diabetes_pct'] = df_grp_diabetes.apply(lambda x: x['counts'] / count_total, axis=1)"
   ]
  },
  {
   "cell_type": "code",
   "execution_count": 6,
   "id": "b775cfbe-52d6-4447-8d61-24564c68ba08",
   "metadata": {},
   "outputs": [
    {
     "data": {
      "text/html": [
       "<div>\n",
       "<style scoped>\n",
       "    .dataframe tbody tr th:only-of-type {\n",
       "        vertical-align: middle;\n",
       "    }\n",
       "\n",
       "    .dataframe tbody tr th {\n",
       "        vertical-align: top;\n",
       "    }\n",
       "\n",
       "    .dataframe thead th {\n",
       "        text-align: right;\n",
       "    }\n",
       "</style>\n",
       "<table border=\"1\" class=\"dataframe\">\n",
       "  <thead>\n",
       "    <tr style=\"text-align: right;\">\n",
       "      <th></th>\n",
       "      <th>diabetes</th>\n",
       "      <th>counts</th>\n",
       "      <th>diabetes_pct</th>\n",
       "    </tr>\n",
       "  </thead>\n",
       "  <tbody>\n",
       "    <tr>\n",
       "      <th>0</th>\n",
       "      <td>no</td>\n",
       "      <td>5043345</td>\n",
       "      <td>0.848794</td>\n",
       "    </tr>\n",
       "    <tr>\n",
       "      <th>1</th>\n",
       "      <td>yes</td>\n",
       "      <td>898435</td>\n",
       "      <td>0.151206</td>\n",
       "    </tr>\n",
       "  </tbody>\n",
       "</table>\n",
       "</div>"
      ],
      "text/plain": [
       "  diabetes   counts  diabetes_pct\n",
       "0       no  5043345      0.848794\n",
       "1      yes   898435      0.151206"
      ]
     },
     "execution_count": 6,
     "metadata": {},
     "output_type": "execute_result"
    }
   ],
   "source": [
    "df_grp_diabetes"
   ]
  },
  {
   "cell_type": "markdown",
   "id": "7562eaf4-f51c-4655-91fe-b1b717b17536",
   "metadata": {},
   "source": [
    "# Viz"
   ]
  },
  {
   "cell_type": "code",
   "execution_count": 7,
   "id": "df3d02fd-f386-461b-b52a-31d12e9fb9c1",
   "metadata": {},
   "outputs": [],
   "source": [
    "# graph grid\n",
    "# x = year\n",
    "# y = var"
   ]
  },
  {
   "cell_type": "code",
   "execution_count": 8,
   "id": "db4674ad-0ccd-4df6-a2e7-65f7f085db8d",
   "metadata": {},
   "outputs": [],
   "source": [
    "# x_cnt = len(df_all.columns)\n",
    "# y_cnt = len(ls_years)\n",
    "# fig, axs = plt.subplots(x_cnt, y_cnt)\n",
    "\n",
    "# # test\n",
    "# x = np.linspace(0, 2 * np.pi, 400)\n",
    "# y = np.sin(x ** 2)\n",
    "\n",
    "# for ax in axs.flat:\n",
    "#     ax.plot(x, y)"
   ]
  },
  {
   "cell_type": "code",
   "execution_count": 9,
   "id": "4a85c43d-dbc3-4ca5-a149-c4f302a2924b",
   "metadata": {},
   "outputs": [
    {
     "data": {
      "text/plain": [
       "<Figure size 432x288 with 0 Axes>"
      ]
     },
     "metadata": {},
     "output_type": "display_data"
    }
   ],
   "source": [
    "# viz each col\n",
    "pathlib.Path(f\"./viz/diabetes/\").mkdir(parents=True, exist_ok=True)\n",
    "for col in df_all.columns:\n",
    "\n",
    "    # set up output\n",
    "    viz_title = f\"{col}\"\n",
    "    viz_filename = f\"./viz/diabetes/{viz_title}.png\"\n",
    "\n",
    "    # get ax\n",
    "    if str(df_all[col].dtype) in [\"float64\", \"int64\"]:\n",
    "        ax = df_all[col].hist()\n",
    "    elif str(df_all[col].dtype) in [\"category\", \"object\"]:\n",
    "        ax = df_all[col].value_counts().plot(kind=\"bar\")\n",
    "    else:\n",
    "        continue\n",
    "\n",
    "    # build footnote\n",
    "\n",
    "    if str(df_all[col].dtype) in [\"float64\", \"int64\"]:\n",
    "        col_min = round(df_all[col].min(), 2)\n",
    "        col_max = round(df_all[col].max(), 2)\n",
    "        col_avg = round(df_all[col].mean(), 2)\n",
    "        footnote = f\"\\n* avg = {col_avg}, min = {col_min}, max = {col_max}\"\n",
    "        plt.figtext(0.01, 0.01, footnote, horizontalalignment=\"left\")\n",
    "\n",
    "    # save\n",
    "    ax.set_title(viz_title)\n",
    "    ax.set_xlabel(col)\n",
    "    ax.set_ylabel(\"counts\")\n",
    "    ax.figure.tight_layout()\n",
    "    ax.figure.savefig(viz_filename)\n",
    "    plt.clf()  # clear the entire figure"
   ]
  }
 ],
 "metadata": {
  "kernelspec": {
   "display_name": "csc",
   "language": "python",
   "name": "csc"
  },
  "language_info": {
   "codemirror_mode": {
    "name": "ipython",
    "version": 3
   },
   "file_extension": ".py",
   "mimetype": "text/x-python",
   "name": "python",
   "nbconvert_exporter": "python",
   "pygments_lexer": "ipython3",
   "version": "3.9.7"
  }
 },
 "nbformat": 4,
 "nbformat_minor": 5
}
